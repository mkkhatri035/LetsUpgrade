{
 "cells": [
  {
   "cell_type": "markdown",
   "metadata": {},
   "source": [
    "# Covid Data Web Scrapping Assignment"
   ]
  },
  {
   "cell_type": "code",
   "execution_count": 92,
   "metadata": {},
   "outputs": [],
   "source": [
    "from bs4 import BeautifulSoup\n",
    "import requests\n",
    "import pandas as pd\n",
    "from collections import defaultdict"
   ]
  },
  {
   "cell_type": "code",
   "execution_count": 93,
   "metadata": {},
   "outputs": [],
   "source": [
    "def get_data(url):\n",
    "    casesum = defaultdict(list)\n",
    "    res = requests.get(url)\n",
    "    soup = BeautifulSoup(res.text, 'html.parser')\n",
    "    continents = soup.find('table', {'id':'main_table_countries_today'}).findAll('tr')\n",
    "    continents=continents[1:]\n",
    "    for continent in continents:\n",
    "        data=continent.findAll('td')\n",
    "        if(data[1].text!='\\n\\n'and data[1].text!='Total:'):\n",
    "            casesum['Area'].append(data[1].text.replace('\\n','').replace('\\n',''))\n",
    "            casesum['Total Cases'].append(data[2].text)\n",
    "            if(data[3].text==''):\n",
    "                casesum['New Cases'].append('0')\n",
    "            else:\n",
    "                casesum['New Cases'].append(data[3].text)\n",
    "            casesum['Total death'].append(data[4].text)\n",
    "            casesum['Total Recovered'].append(data[6].text)\n",
    "            casesum['Active Cases'].append(data[8].text)\n",
    "        \n",
    "    return pd.DataFrame(casesum)"
   ]
  },
  {
   "cell_type": "code",
   "execution_count": 94,
   "metadata": {},
   "outputs": [],
   "source": [
    "url=\"https://www.worldometers.info/coronavirus/\"\n",
    "Coviddata = get_data(url)"
   ]
  },
  {
   "cell_type": "code",
   "execution_count": 95,
   "metadata": {},
   "outputs": [],
   "source": [
    "Coviddata.to_csv('CovidData.csv')"
   ]
  },
  {
   "cell_type": "code",
   "execution_count": null,
   "metadata": {},
   "outputs": [],
   "source": []
  }
 ],
 "metadata": {
  "kernelspec": {
   "display_name": "Python 3",
   "language": "python",
   "name": "python3"
  },
  "language_info": {
   "codemirror_mode": {
    "name": "ipython",
    "version": 3
   },
   "file_extension": ".py",
   "mimetype": "text/x-python",
   "name": "python",
   "nbconvert_exporter": "python",
   "pygments_lexer": "ipython3",
   "version": "3.6.13"
  }
 },
 "nbformat": 4,
 "nbformat_minor": 2
}
